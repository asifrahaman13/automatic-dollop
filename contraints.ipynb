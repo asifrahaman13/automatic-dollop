{
 "cells": [
  {
   "cell_type": "code",
   "execution_count": 79,
   "metadata": {},
   "outputs": [],
   "source": [
    "from neo4j import GraphDatabase, RoutingControl\n",
    "\n",
    "URI = \"neo4j://localhost:7687\"\n",
    "AUTH = (\"neo4j\", \"password\")\n"
   ]
  },
  {
   "cell_type": "code",
   "execution_count": 80,
   "metadata": {},
   "outputs": [
    {
     "name": "stdout",
     "output_type": "stream",
     "text": [
      "[<Record director=<Node element_id='4:20b61c5c-f2e9-44f5-8ebc-6c077450afe3:1' labels=frozenset({'Director', 'Person'}) properties={'name': 'Oliver Stone'}>>, <Record director=<Node element_id='4:20b61c5c-f2e9-44f5-8ebc-6c077450afe3:3' labels=frozenset({'Director', 'Person'}) properties={'name': 'Oliver Stone'}>>, <Record director=<Node element_id='4:20b61c5c-f2e9-44f5-8ebc-6c077450afe3:5' labels=frozenset({'Director', 'Person'}) properties={'name': 'Martin Scorsese'}>>, <Record director=<Node element_id='4:20b61c5c-f2e9-44f5-8ebc-6c077450afe3:7' labels=frozenset({'Director', 'Person'}) properties={'name': 'Steven Spielberg'}>>, <Record director=<Node element_id='4:20b61c5c-f2e9-44f5-8ebc-6c077450afe3:9' labels=frozenset({'Director', 'Person'}) properties={'name': 'Quentin Tarantino'}>>, <Record director=<Node element_id='4:20b61c5c-f2e9-44f5-8ebc-6c077450afe3:11' labels=frozenset({'Director', 'Person'}) properties={'name': 'Clint Eastwood'}>>, <Record director=<Node element_id='4:20b61c5c-f2e9-44f5-8ebc-6c077450afe3:13' labels=frozenset({'Director', 'Person'}) properties={'name': 'Alfred Hitchcock'}>>, <Record director=<Node element_id='4:20b61c5c-f2e9-44f5-8ebc-6c077450afe3:15' labels=frozenset({'Director', 'Person'}) properties={'name': 'Peter Jackson'}>>, <Record director=<Node element_id='4:20b61c5c-f2e9-44f5-8ebc-6c077450afe3:17' labels=frozenset({'Director', 'Person'}) properties={'name': 'Christopher Nolan'}>>, <Record director=<Node element_id='4:20b61c5c-f2e9-44f5-8ebc-6c077450afe3:19' labels=frozenset({'Director', 'Person'}) properties={'name': 'Francis Ford Coppola'}>>, <Record director=<Node element_id='4:20b61c5c-f2e9-44f5-8ebc-6c077450afe3:21' labels=frozenset({'Director', 'Person'}) properties={'name': 'James Cameron'}>>]\n",
      "None Oliver Stone\n",
      "None Oliver Stone\n",
      "None Martin Scorsese\n",
      "None Steven Spielberg\n",
      "None Quentin Tarantino\n",
      "None Clint Eastwood\n",
      "None Alfred Hitchcock\n",
      "None Peter Jackson\n",
      "None Christopher Nolan\n",
      "None Francis Ford Coppola\n",
      "None James Cameron\n"
     ]
    }
   ],
   "source": [
    "from typing import Any\n",
    "\n",
    "\n",
    "def get_all_company(driver) -> Any:\n",
    "    records = driver.execute_query(\"MATCH (director: Director) RETURN director;\",   database_=\"neo4j\", routing_=RoutingControl.READ,)\n",
    "    print(records.records)\n",
    "    for record in records.records:\n",
    "        for item in record:\n",
    "            print(item[\"id\"], item[\"name\"])\n",
    "\n",
    "\n",
    "with GraphDatabase.driver(URI, auth=AUTH) as driver:\n",
    "    get_all_company(driver)"
   ]
  },
  {
   "cell_type": "code",
   "execution_count": null,
   "metadata": {},
   "outputs": [],
   "source": []
  }
 ],
 "metadata": {
  "kernelspec": {
   "display_name": ".venv",
   "language": "python",
   "name": "python3"
  },
  "language_info": {
   "codemirror_mode": {
    "name": "ipython",
    "version": 3
   },
   "file_extension": ".py",
   "mimetype": "text/x-python",
   "name": "python",
   "nbconvert_exporter": "python",
   "pygments_lexer": "ipython3",
   "version": "3.12.3"
  }
 },
 "nbformat": 4,
 "nbformat_minor": 2
}
