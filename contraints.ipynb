{
 "cells": [
  {
   "cell_type": "code",
   "execution_count": 3,
   "metadata": {},
   "outputs": [],
   "source": [
    "from neo4j import GraphDatabase, RoutingControl\n",
    "\n",
    "URI = \"neo4j://localhost:7687\"\n",
    "AUTH = (\"neo4j\", \"password\")"
   ]
  },
  {
   "cell_type": "code",
   "execution_count": 4,
   "metadata": {},
   "outputs": [
    {
     "name": "stdout",
     "output_type": "stream",
     "text": [
      "[<Record book=<Node element_id='4:20b61c5c-f2e9-44f5-8ebc-6c077450afe3:36' labels=frozenset({'Book'}) properties={'author': 'J.D. Salinger', 'name': 'The Catcher in the Rye', 'genre': 'Fiction', 'id': 1, 'prize': 455}>>, <Record book=<Node element_id='4:20b61c5c-f2e9-44f5-8ebc-6c077450afe3:37' labels=frozenset({'Book'}) properties={'author': 'Harper Lee', 'name': 'To Kill a Mockingbird', 'genre': 'Fiction', 'id': 2, 'prize': 100}>>, <Record book=<Node element_id='4:20b61c5c-f2e9-44f5-8ebc-6c077450afe3:38' labels=frozenset({'Book'}) properties={'author': 'George Orwell', 'genre': 'Dystopian', 'name': '1984', 'id': 3, 'prize': 5000}>>, <Record book=<Node element_id='4:20b61c5c-f2e9-44f5-8ebc-6c077450afe3:44' labels=frozenset({'Book'}) properties={'author': 'F. Scott Fitzgerald', 'genre': 'Tragedy', 'name': 'The Great Gatsby', 'id': 4, 'prize': 147}>>, <Record book=<Node element_id='4:20b61c5c-f2e9-44f5-8ebc-6c077450afe3:45' labels=frozenset({'Book'}) properties={'author': 'Herman Melville', 'name': 'Moby-Dick', 'genre': 'Adventure', 'id': 5, 'prize': 540}>>, <Record book=<Node element_id='4:20b61c5c-f2e9-44f5-8ebc-6c077450afe3:46' labels=frozenset({'Book'}) properties={'author': 'Jane Austen', 'name': 'Pride and Prejudice', 'genre': 'Romance', 'id': 6, 'prize': 0}>>, <Record book=<Node element_id='4:20b61c5c-f2e9-44f5-8ebc-6c077450afe3:47' labels=frozenset({'Book'}) properties={'author': 'Leo Tolstoy', 'genre': 'Historical', 'name': 'War and Peace', 'id': 7, 'prize': 570}>>, <Record book=<Node element_id='4:20b61c5c-f2e9-44f5-8ebc-6c077450afe3:48' labels=frozenset({'Book'}) properties={'author': 'J.R.R. Tolkien', 'genre': 'Fantasy', 'name': 'The Hobbit', 'id': 8, 'prize': 0}>>, <Record book=<Node element_id='4:20b61c5c-f2e9-44f5-8ebc-6c077450afe3:49' labels=frozenset({'Book'}) properties={'author': 'James Joyce', 'genre': 'Modernist', 'name': 'Ulysses', 'id': 9, 'prize': 475}>>, <Record book=<Node element_id='4:20b61c5c-f2e9-44f5-8ebc-6c077450afe3:50' labels=frozenset({'Book'}) properties={'author': 'Fyodor Dostoevsky', 'genre': 'Philosophical Fiction', 'name': 'The Brothers Karamazov', 'id': 10, 'prize': 237}>>]\n",
      "1 The Catcher in the Rye 455 J.D. Salinger Fiction\n",
      "2 To Kill a Mockingbird 100 Harper Lee Fiction\n",
      "3 1984 5000 George Orwell Dystopian\n",
      "4 The Great Gatsby 147 F. Scott Fitzgerald Tragedy\n",
      "5 Moby-Dick 540 Herman Melville Adventure\n",
      "6 Pride and Prejudice 0 Jane Austen Romance\n",
      "7 War and Peace 570 Leo Tolstoy Historical\n",
      "8 The Hobbit 0 J.R.R. Tolkien Fantasy\n",
      "9 Ulysses 475 James Joyce Modernist\n",
      "10 The Brothers Karamazov 237 Fyodor Dostoevsky Philosophical Fiction\n"
     ]
    }
   ],
   "source": [
    "from typing import Any\n",
    "\n",
    "\n",
    "def get_all_company(driver) -> Any:\n",
    "    records = driver.execute_query(\n",
    "        \"MATCH (book: Book) RETURN book;\",\n",
    "        database_=\"neo4j\",\n",
    "        routing_=RoutingControl.READ,\n",
    "    )\n",
    "    print(records.records) \n",
    "    for record in records.records:\n",
    "        for item in record:\n",
    "            print(item[\"id\"], item[\"name\"],  item[\"prize\"], item[\"author\"], item[\"genre\"])\n",
    "\n",
    "\n",
    "with GraphDatabase.driver(URI, auth=AUTH) as driver:\n",
    "    get_all_company(driver)"
   ]
  },
  {
   "cell_type": "code",
   "execution_count": null,
   "metadata": {},
   "outputs": [],
   "source": []
  }
 ],
 "metadata": {
  "kernelspec": {
   "display_name": ".venv",
   "language": "python",
   "name": "python3"
  },
  "language_info": {
   "codemirror_mode": {
    "name": "ipython",
    "version": 3
   },
   "file_extension": ".py",
   "mimetype": "text/x-python",
   "name": "python",
   "nbconvert_exporter": "python",
   "pygments_lexer": "ipython3",
   "version": "3.12.3"
  }
 },
 "nbformat": 4,
 "nbformat_minor": 2
}
